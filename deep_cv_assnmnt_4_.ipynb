{
  "nbformat": 4,
  "nbformat_minor": 0,
  "metadata": {
    "colab": {
      "provenance": [],
      "authorship_tag": "ABX9TyOZOP8BOiVEe5DZQmVjunE/",
      "include_colab_link": true
    },
    "kernelspec": {
      "name": "python3",
      "display_name": "Python 3"
    },
    "language_info": {
      "name": "python"
    }
  },
  "cells": [
    {
      "cell_type": "markdown",
      "metadata": {
        "id": "view-in-github",
        "colab_type": "text"
      },
      "source": [
        "<a href=\"https://colab.research.google.com/github/santumolcputhiyaparampil/ML/blob/main/deep_cv_assnmnt_4_.ipynb\" target=\"_parent\"><img src=\"https://colab.research.google.com/assets/colab-badge.svg\" alt=\"Open In Colab\"/></a>"
      ]
    },
    {
      "cell_type": "markdown",
      "source": [],
      "metadata": {
        "id": "V7JYRMKh29na"
      }
    },
    {
      "cell_type": "code",
      "source": [
        "# Import the necessary libraries\n",
        "from keras.models import Sequential\n",
        "from keras.layers import Conv2D, MaxPooling2D, Flatten, Dense\n",
        "from keras.preprocessing.image import ImageDataGenerator\n",
        "\n"
      ],
      "metadata": {
        "id": "EsuLfxuk3Kay"
      },
      "execution_count": null,
      "outputs": []
    },
    {
      "cell_type": "code",
      "source": [
        "# Create a sequential CNN model\n",
        "model = Sequential()\n"
      ],
      "metadata": {
        "id": "hWP0GaJ63ynt"
      },
      "execution_count": null,
      "outputs": []
    },
    {
      "cell_type": "code",
      "source": [
        "# Add the first convolutional layer with 32 filters, each of size 3x3, and input shape of (64, 64, 3)\n",
        "model.add(Conv2D(32, (3, 3), activation='relu', input_shape=(64, 64, 3)))\n",
        "\n"
      ],
      "metadata": {
        "id": "hLyVXoSF332y"
      },
      "execution_count": null,
      "outputs": []
    },
    {
      "cell_type": "code",
      "source": [
        "# Add max pooling layer with pool size 2x2\n",
        "model.add(MaxPooling2D(pool_size=(2, 2)))\n",
        "\n"
      ],
      "metadata": {
        "id": "zZjXGfQ2Pb_u"
      },
      "execution_count": null,
      "outputs": []
    },
    {
      "cell_type": "code",
      "source": [
        "# Add the second convolutional layer with 64 filters, each of size 3x3\n",
        "model.add(Conv2D(64, (3, 3), activation='relu'))\n",
        "\n"
      ],
      "metadata": {
        "id": "y9StJ4CLRI_B"
      },
      "execution_count": null,
      "outputs": []
    },
    {
      "cell_type": "code",
      "source": [
        "# Add another max pooling layer\n",
        "model.add(MaxPooling2D(pool_size=(2, 2)))\n"
      ],
      "metadata": {
        "id": "GDdImUOwRsIr"
      },
      "execution_count": null,
      "outputs": []
    },
    {
      "cell_type": "code",
      "source": [
        "# Flatten the tensor into a vector\n",
        "model.add(Flatten())\n",
        "\n"
      ],
      "metadata": {
        "id": "FePUZYPcSisl"
      },
      "execution_count": null,
      "outputs": []
    },
    {
      "cell_type": "code",
      "source": [
        "# Add a fully connected layer with 128 units\n",
        "model.add(Dense(128, activation='relu'))\n"
      ],
      "metadata": {
        "id": "TbrJLCYmVn-6"
      },
      "execution_count": null,
      "outputs": []
    },
    {
      "cell_type": "code",
      "source": [
        "# Add the output layer with 4 units (one for each quadrant) and softmax activation for multi-class classification\n",
        "model.add(Dense(4, activation='softmax'))\n"
      ],
      "metadata": {
        "id": "edladJDdV_bF"
      },
      "execution_count": null,
      "outputs": []
    },
    {
      "cell_type": "code",
      "source": [
        "# Compile the model with appropriate loss function, optimizer, and metrics\n",
        "model.compile(loss='categorical_crossentropy', optimizer='adam', metrics=['accuracy'])\n",
        "\n"
      ],
      "metadata": {
        "id": "2tLyp402Waoj"
      },
      "execution_count": null,
      "outputs": []
    },
    {
      "cell_type": "code",
      "source": [
        "# Data preprocessing\n",
        "# Assumes that the images are stored in the following directory structure:\n",
        "# - train/\n",
        "#   - quadrant1/\n",
        "#   - quadrant2/\n",
        "#   - quadrant3/#   - quadrant3/\n",
        "#   - quadrant4/\n",
        "# where train/ and validation/ are the paths to the training and validation data, respectively.\n",
        "\n",
        "# Data augmentation for training data\n",
        "train_datagen = ImageDataGenerator(rescale=1./255, shear_range=0.2, zoom_range=0.2, horizontal_flip=True)\n"
      ],
      "metadata": {
        "id": "8Qn2pSK_XUF5"
      },
      "execution_count": null,
      "outputs": []
    },
    {
      "cell_type": "code",
      "source": [
        "# Data augmentation for validation data (only rescale, no other augmentation)\n",
        "val_datagen = ImageDataGenerator(rescale=1./255)"
      ],
      "metadata": {
        "id": "buDgJNaDXukQ"
      },
      "execution_count": null,
      "outputs": []
    },
    {
      "cell_type": "code",
      "source": [
        "# Set batch size for training and validation\n",
        "batch_size = 32"
      ],
      "metadata": {
        "id": "m6eW8dy1YCFH"
      },
      "execution_count": null,
      "outputs": []
    },
    {
      "cell_type": "code",
      "source": [
        "# Load the training data\n",
        "train_generator = /content/apple_quadrant_cnn.h5('train/', target_size=(64, 64), batch_size='batch_size', class_mode='categorical')"
      ],
      "metadata": {
        "id": "wCAnpVURYNkD"
      },
      "execution_count": null,
      "outputs": []
    },
    {
      "cell_type": "code",
      "source": [
        "# Load the validation data\n",
        "validation_generator = val_datagen.flow_from_directory('validation/', target_size=(64, 64), batch_size='batch_size', class_mode='categorical')"
      ],
      "metadata": {
        "id": "3eW9kgZyYXcy"
      },
      "execution_count": null,
      "outputs": []
    },
    {
      "cell_type": "code",
      "source": [
        "# Train the model\n",
        "model.fit_generator(train_generator, steps_per_epoch=train_generator.n//batch_size, epochs=10, validation_data=validation_generator, validation_steps=validation_generator.n//batch_size)"
      ],
      "metadata": {
        "id": "JyztBg-TZs70"
      },
      "execution_count": null,
      "outputs": []
    },
    {
      "cell_type": "code",
      "source": [
        "# Save the trained model\n",
        "model.save('apple_quadrant_cnn.h5')"
      ],
      "metadata": {
        "id": "XUnTzRtbcI4l"
      },
      "execution_count": null,
      "outputs": []
    }
  ]
}